{
 "cells": [
  {
   "cell_type": "code",
   "execution_count": null,
   "metadata": {},
   "outputs": [],
   "source": [
    "from numpy import array\n",
    "from keras.preprocessing.text import one_hot"
   ]
  },
  {
   "cell_type": "code",
   "execution_count": null,
   "metadata": {},
   "outputs": [],
   "source": [
    "!pip install keras-rectified-adam"
   ]
  },
  {
   "cell_type": "code",
   "execution_count": 1,
   "metadata": {},
   "outputs": [
    {
     "name": "stdout",
     "output_type": "stream",
     "text": [
      "env: TF_KERAS=1\n",
      "1.13.1\n"
     ]
    }
   ],
   "source": [
    "from __future__ import absolute_import, division, print_function, unicode_literals\n",
    "%env TF_KERAS = 1\n",
    "from keras_radam import RAdam\n",
    "\n",
    "import pathlib\n",
    "import numpy as np\n",
    "\n",
    "import matplotlib.pyplot as plt\n",
    "import pandas as pd\n",
    "import seaborn as sns\n",
    "\n",
    "import tensorflow as tf\n",
    "from tensorflow import keras\n",
    "from tensorflow.keras import layers\n",
    "\n",
    "from tensorflow.keras.preprocessing.text import Tokenizer\n",
    "from tensorflow.keras.preprocessing.sequence import pad_sequences\n",
    "from tensorflow.keras.models import Sequential\n",
    "from tensorflow.keras.layers import Dense, Flatten, LSTM, Conv1D, MaxPooling1D, Dropout, Activation\n",
    "\n",
    "\n",
    "from sklearn.metrics import accuracy_score\n",
    "from sklearn.metrics import f1_score, roc_auc_score\n",
    "from sklearn.metrics import classification_report\n",
    "\n",
    "from tensorflow.keras.layers import Input\n",
    "#from keras.layers.embeddings import Embedding\n",
    "from tensorflow.keras.layers import Embedding\n",
    "\n",
    "print(tf.__version__)"
   ]
  },
  {
   "cell_type": "code",
   "execution_count": 2,
   "metadata": {},
   "outputs": [],
   "source": [
    "column_names = ['MAKTG',\n",
    "                'EXSID'                \n",
    "               ]"
   ]
  },
  {
   "cell_type": "code",
   "execution_count": 146,
   "metadata": {},
   "outputs": [
    {
     "data": {
      "text/html": [
       "<div>\n",
       "<style scoped>\n",
       "    .dataframe tbody tr th:only-of-type {\n",
       "        vertical-align: middle;\n",
       "    }\n",
       "\n",
       "    .dataframe tbody tr th {\n",
       "        vertical-align: top;\n",
       "    }\n",
       "\n",
       "    .dataframe thead th {\n",
       "        text-align: right;\n",
       "    }\n",
       "</style>\n",
       "<table border=\"1\" class=\"dataframe\">\n",
       "  <thead>\n",
       "    <tr style=\"text-align: right;\">\n",
       "      <th></th>\n",
       "      <th>MAKTG</th>\n",
       "      <th>EXSID</th>\n",
       "    </tr>\n",
       "  </thead>\n",
       "  <tbody>\n",
       "    <tr>\n",
       "      <th>0</th>\n",
       "      <td>ADVIL ALLERGY CONGESTION RELIEF TAB 20CT</td>\n",
       "      <td>A142</td>\n",
       "    </tr>\n",
       "    <tr>\n",
       "      <th>1</th>\n",
       "      <td>BUPIVAC 0.25% 30ML SSOL 1X25 TTV</td>\n",
       "      <td>A137</td>\n",
       "    </tr>\n",
       "    <tr>\n",
       "      <th>2</th>\n",
       "      <td>IDAMYCIN 1MG/ML SSOL 1X20ML PVL US</td>\n",
       "      <td>A114</td>\n",
       "    </tr>\n",
       "    <tr>\n",
       "      <th>3</th>\n",
       "      <td>CALTRATE 600+D 60</td>\n",
       "      <td>A145</td>\n",
       "    </tr>\n",
       "    <tr>\n",
       "      <th>4</th>\n",
       "      <td>PNIN: PHENYTOIN SODIUM (INJ)</td>\n",
       "      <td>A134</td>\n",
       "    </tr>\n",
       "  </tbody>\n",
       "</table>\n",
       "</div>"
      ],
      "text/plain": [
       "                                      MAKTG EXSID\n",
       "0  ADVIL ALLERGY CONGESTION RELIEF TAB 20CT  A142\n",
       "1          BUPIVAC 0.25% 30ML SSOL 1X25 TTV  A137\n",
       "2        IDAMYCIN 1MG/ML SSOL 1X20ML PVL US  A114\n",
       "3                         CALTRATE 600+D 60  A145\n",
       "4              PNIN: PHENYTOIN SODIUM (INJ)  A134"
      ]
     },
     "execution_count": 146,
     "metadata": {},
     "output_type": "execute_result"
    }
   ],
   "source": [
    "df = pd.read_csv('htsdata_train.csv',\n",
    "        header=0,\n",
    "        na_values = '0',\n",
    "        usecols=column_names,\n",
    "        comment='\\t',\n",
    "        skipinitialspace=True)\n",
    "df = df.replace(0, np.nan)\n",
    "dataset = df.copy()\n",
    "dataset.head()"
   ]
  },
  {
   "cell_type": "code",
   "execution_count": 147,
   "metadata": {},
   "outputs": [],
   "source": [
    "MAKTG = dataset[\"MAKTG\"].value_counts().keys().tolist()"
   ]
  },
  {
   "cell_type": "code",
   "execution_count": 148,
   "metadata": {},
   "outputs": [],
   "source": [
    "EXSID = dataset.pop('EXSID')\n",
    "dataset['A0'] = (EXSID == 'A0')*1.0\n",
    "dataset['A1'] = (EXSID == 'A1')*1.0\n",
    "dataset['A2'] = (EXSID == 'A2')*1.0\n",
    "dataset['A3'] = (EXSID == 'A3')*1.0\n",
    "dataset['A4'] = (EXSID == 'A4')*1.0\n",
    "dataset['A5'] = (EXSID == 'A5')*1.0\n",
    "dataset['A6'] = (EXSID == 'A6')*1.0\n",
    "dataset['A7'] = (EXSID == 'A7')*1.0\n",
    "dataset['A8'] = (EXSID == 'A8')*1.0\n",
    "dataset['A9'] = (EXSID == 'A9')*1.0\n",
    "dataset['A10'] = (EXSID == 'A10')*1.0\n",
    "dataset['A11'] = (EXSID == 'A11')*1.0\n",
    "dataset['A12'] = (EXSID == 'A12')*1.0\n",
    "dataset['A13'] = (EXSID == 'A13')*1.0\n",
    "dataset['A14'] = (EXSID == 'A14')*1.0\n",
    "dataset['A15'] = (EXSID == 'A15')*1.0\n",
    "dataset['A16'] = (EXSID == 'A16')*1.0\n",
    "dataset['A17'] = (EXSID == 'A17')*1.0\n",
    "dataset['A18'] = (EXSID == 'A18')*1.0\n",
    "dataset['A19'] = (EXSID == 'A19')*1.0\n",
    "dataset['A20'] = (EXSID == 'A20')*1.0\n",
    "dataset['A21'] = (EXSID == 'A21')*1.0\n",
    "dataset['A22'] = (EXSID == 'A22')*1.0\n",
    "dataset['A23'] = (EXSID == 'A23')*1.0\n",
    "dataset['A24'] = (EXSID == 'A24')*1.0\n",
    "dataset['A25'] = (EXSID == 'A25')*1.0\n",
    "dataset['A26'] = (EXSID == 'A26')*1.0\n",
    "dataset['A27'] = (EXSID == 'A27')*1.0\n",
    "dataset['A28'] = (EXSID == 'A28')*1.0\n",
    "dataset['A29'] = (EXSID == 'A29')*1.0\n",
    "dataset['A30'] = (EXSID == 'A30')*1.0\n",
    "dataset['A31'] = (EXSID == 'A31')*1.0\n",
    "dataset['A32'] = (EXSID == 'A32')*1.0\n",
    "dataset['A33'] = (EXSID == 'A33')*1.0\n",
    "dataset['A34'] = (EXSID == 'A34')*1.0\n",
    "dataset['A35'] = (EXSID == 'A35')*1.0\n",
    "dataset['A36'] = (EXSID == 'A36')*1.0\n",
    "dataset['A37'] = (EXSID == 'A37')*1.0\n",
    "dataset['A38'] = (EXSID == 'A38')*1.0\n",
    "dataset['A39'] = (EXSID == 'A39')*1.0\n",
    "dataset['A40'] = (EXSID == 'A40')*1.0\n",
    "dataset['A41'] = (EXSID == 'A41')*1.0\n",
    "dataset['A42'] = (EXSID == 'A42')*1.0\n",
    "dataset['A43'] = (EXSID == 'A43')*1.0\n",
    "dataset['A44'] = (EXSID == 'A44')*1.0\n",
    "dataset['A45'] = (EXSID == 'A45')*1.0\n",
    "dataset['A46'] = (EXSID == 'A46')*1.0\n",
    "dataset['A47'] = (EXSID == 'A47')*1.0\n",
    "dataset['A48'] = (EXSID == 'A48')*1.0\n",
    "dataset['A49'] = (EXSID == 'A49')*1.0\n",
    "dataset['A50'] = (EXSID == 'A50')*1.0\n",
    "dataset['A51'] = (EXSID == 'A51')*1.0\n",
    "dataset['A52'] = (EXSID == 'A52')*1.0\n",
    "dataset['A53'] = (EXSID == 'A53')*1.0\n",
    "dataset['A54'] = (EXSID == 'A54')*1.0\n",
    "dataset['A55'] = (EXSID == 'A55')*1.0\n",
    "dataset['A56'] = (EXSID == 'A56')*1.0\n",
    "dataset['A57'] = (EXSID == 'A57')*1.0\n",
    "dataset['A58'] = (EXSID == 'A58')*1.0\n",
    "dataset['A59'] = (EXSID == 'A59')*1.0\n",
    "dataset['A60'] = (EXSID == 'A60')*1.0\n",
    "dataset['A61'] = (EXSID == 'A61')*1.0\n",
    "dataset['A62'] = (EXSID == 'A62')*1.0\n",
    "dataset['A63'] = (EXSID == 'A63')*1.0\n",
    "dataset['A64'] = (EXSID == 'A64')*1.0\n",
    "dataset['A65'] = (EXSID == 'A65')*1.0\n",
    "dataset['A66'] = (EXSID == 'A66')*1.0\n",
    "dataset['A67'] = (EXSID == 'A67')*1.0\n",
    "dataset['A68'] = (EXSID == 'A68')*1.0\n",
    "dataset['A69'] = (EXSID == 'A69')*1.0\n",
    "dataset['A70'] = (EXSID == 'A70')*1.0\n",
    "dataset['A71'] = (EXSID == 'A71')*1.0\n",
    "dataset['A72'] = (EXSID == 'A72')*1.0\n",
    "dataset['A73'] = (EXSID == 'A73')*1.0\n",
    "dataset['A74'] = (EXSID == 'A74')*1.0\n",
    "dataset['A75'] = (EXSID == 'A75')*1.0\n",
    "dataset['A76'] = (EXSID == 'A76')*1.0\n",
    "dataset['A77'] = (EXSID == 'A77')*1.0\n",
    "dataset['A78'] = (EXSID == 'A78')*1.0\n",
    "dataset['A79'] = (EXSID == 'A79')*1.0\n",
    "dataset['A80'] = (EXSID == 'A80')*1.0\n",
    "dataset['A81'] = (EXSID == 'A81')*1.0\n",
    "dataset['A82'] = (EXSID == 'A82')*1.0\n",
    "dataset['A83'] = (EXSID == 'A83')*1.0\n",
    "dataset['A84'] = (EXSID == 'A84')*1.0\n",
    "dataset['A85'] = (EXSID == 'A85')*1.0\n",
    "dataset['A86'] = (EXSID == 'A86')*1.0\n",
    "dataset['A87'] = (EXSID == 'A87')*1.0\n",
    "dataset['A88'] = (EXSID == 'A88')*1.0\n",
    "dataset['A89'] = (EXSID == 'A89')*1.0\n",
    "dataset['A90'] = (EXSID == 'A90')*1.0\n",
    "dataset['A91'] = (EXSID == 'A91')*1.0\n",
    "dataset['A92'] = (EXSID == 'A92')*1.0\n",
    "dataset['A93'] = (EXSID == 'A93')*1.0\n",
    "dataset['A94'] = (EXSID == 'A94')*1.0\n",
    "dataset['A95'] = (EXSID == 'A95')*1.0\n",
    "dataset['A96'] = (EXSID == 'A96')*1.0\n",
    "dataset['A97'] = (EXSID == 'A97')*1.0\n",
    "dataset['A98'] = (EXSID == 'A98')*1.0\n",
    "dataset['A99'] = (EXSID == 'A99')*1.0\n",
    "dataset['A100'] = (EXSID == 'A100')*1.0\n",
    "dataset['A101'] = (EXSID == 'A101')*1.0\n",
    "dataset['A102'] = (EXSID == 'A102')*1.0\n",
    "dataset['A103'] = (EXSID == 'A103')*1.0\n",
    "dataset['A104'] = (EXSID == 'A104')*1.0\n",
    "dataset['A105'] = (EXSID == 'A105')*1.0\n",
    "dataset['A106'] = (EXSID == 'A106')*1.0\n",
    "dataset['A107'] = (EXSID == 'A107')*1.0\n",
    "dataset['A108'] = (EXSID == 'A108')*1.0\n",
    "dataset['A109'] = (EXSID == 'A109')*1.0\n",
    "dataset['A110'] = (EXSID == 'A110')*1.0\n",
    "dataset['A111'] = (EXSID == 'A111')*1.0\n",
    "dataset['A112'] = (EXSID == 'A112')*1.0\n",
    "dataset['A113'] = (EXSID == 'A113')*1.0\n",
    "dataset['A114'] = (EXSID == 'A114')*1.0\n",
    "dataset['A115'] = (EXSID == 'A115')*1.0\n",
    "dataset['A116'] = (EXSID == 'A116')*1.0\n",
    "dataset['A117'] = (EXSID == 'A117')*1.0\n",
    "dataset['A118'] = (EXSID == 'A118')*1.0\n",
    "dataset['A119'] = (EXSID == 'A119')*1.0\n",
    "dataset['A120'] = (EXSID == 'A120')*1.0\n",
    "dataset['A121'] = (EXSID == 'A121')*1.0\n",
    "dataset['A122'] = (EXSID == 'A122')*1.0\n",
    "dataset['A123'] = (EXSID == 'A123')*1.0\n",
    "dataset['A124'] = (EXSID == 'A124')*1.0\n",
    "dataset['A125'] = (EXSID == 'A125')*1.0\n",
    "dataset['A126'] = (EXSID == 'A126')*1.0\n",
    "dataset['A127'] = (EXSID == 'A127')*1.0\n",
    "dataset['A128'] = (EXSID == 'A128')*1.0\n",
    "dataset['A129'] = (EXSID == 'A129')*1.0\n",
    "dataset['A130'] = (EXSID == 'A130')*1.0\n",
    "dataset['A131'] = (EXSID == 'A131')*1.0\n",
    "dataset['A132'] = (EXSID == 'A132')*1.0\n",
    "dataset['A133'] = (EXSID == 'A133')*1.0\n",
    "dataset['A134'] = (EXSID == 'A134')*1.0\n",
    "dataset['A135'] = (EXSID == 'A135')*1.0\n",
    "dataset['A136'] = (EXSID == 'A136')*1.0\n",
    "dataset['A137'] = (EXSID == 'A137')*1.0\n",
    "dataset['A138'] = (EXSID == 'A138')*1.0\n",
    "dataset['A139'] = (EXSID == 'A139')*1.0\n",
    "dataset['A140'] = (EXSID == 'A140')*1.0\n",
    "dataset['A141'] = (EXSID == 'A141')*1.0\n",
    "dataset['A142'] = (EXSID == 'A142')*1.0\n",
    "dataset['A143'] = (EXSID == 'A143')*1.0\n",
    "dataset['A144'] = (EXSID == 'A144')*1.0\n",
    "dataset['A145'] = (EXSID == 'A145')*1.0\n",
    "dataset['A146'] = (EXSID == 'A146')*1.0\n",
    "dataset['A147'] = (EXSID == 'A147')*1.0\n",
    "dataset['A148'] = (EXSID == 'A148')*1.0\n",
    "dataset['A149'] = (EXSID == 'A149')*1.0\n",
    "dataset['A150'] = (EXSID == 'A150')*1.0\n",
    "dataset['A151'] = (EXSID == 'A151')*1.0\n",
    "dataset['A152'] = (EXSID == 'A152')*1.0\n",
    "dataset['A153'] = (EXSID == 'A153')*1.0\n",
    "dataset['A154'] = (EXSID == 'A154')*1.0\n",
    "dataset['A155'] = (EXSID == 'A155')*1.0\n",
    "dataset['A156'] = (EXSID == 'A156')*1.0\n",
    "dataset['A157'] = (EXSID == 'A157')*1.0\n",
    "dataset['A158'] = (EXSID == 'A158')*1.0\n",
    "dataset['A159'] = (EXSID == 'A159')*1.0\n",
    "dataset['A160'] = (EXSID == 'A160')*1.0\n",
    "dataset['A161'] = (EXSID == 'A161')*1.0\n",
    "dataset['A162'] = (EXSID == 'A162')*1.0\n",
    "dataset['A163'] = (EXSID == 'A163')*1.0\n",
    "dataset['A164'] = (EXSID == 'A164')*1.0\n",
    "dataset['A165'] = (EXSID == 'A165')*1.0\n",
    "dataset['A166'] = (EXSID == 'A166')*1.0\n",
    "dataset['A167'] = (EXSID == 'A167')*1.0\n",
    "dataset['A168'] = (EXSID == 'A168')*1.0\n",
    "dataset['A169'] = (EXSID == 'A169')*1.0"
   ]
  },
  {
   "cell_type": "code",
   "execution_count": 149,
   "metadata": {},
   "outputs": [],
   "source": [
    "from sklearn.model_selection import train_test_split\n",
    "X_train, X_test, y_train, y_test = train_test_split(dataset[\"MAKTG\"].values, dataset.drop(['MAKTG'],axis=1).values, test_size=0.2, random_state=42)"
   ]
  },
  {
   "cell_type": "code",
   "execution_count": 150,
   "metadata": {},
   "outputs": [
    {
     "data": {
      "text/plain": [
       "(6931, 170)"
      ]
     },
     "execution_count": 150,
     "metadata": {},
     "output_type": "execute_result"
    }
   ],
   "source": [
    "y_train.shape"
   ]
  },
  {
   "cell_type": "code",
   "execution_count": 151,
   "metadata": {},
   "outputs": [],
   "source": [
    "#tokenizer = Tokenizer(num_words=20000)\n",
    "#tokenizer.fit_on_texts(X_train)\n",
    "\n",
    "#X_train = tokenizer.texts_to_sequences(X_train)\n",
    "#X_test = tokenizer.texts_to_sequences(X_test)\n",
    "\n",
    "#vocab_size = len(tokenizer.word_index) + 1\n",
    "\n",
    "maxlen = 50\n",
    "\n",
    "#X_train = pad_sequences(X_train, padding='post', maxlen=maxlen)\n",
    "#X_test = pad_sequences(X_test, padding='post', maxlen=maxlen)\n",
    "\n",
    "\n",
    "vocabulary_size = 20000\n",
    "tokenizer = Tokenizer(num_words= vocabulary_size)\n",
    "tokenizer.fit_on_texts(X_train)\n",
    "sequences = tokenizer.texts_to_sequences(X_train)\n",
    "X_train = pad_sequences(sequences, maxlen=maxlen)\n",
    "\n",
    "sequences = tokenizer.texts_to_sequences(X_test)\n",
    "X_test = pad_sequences(sequences, maxlen=maxlen)"
   ]
  },
  {
   "cell_type": "code",
   "execution_count": 152,
   "metadata": {},
   "outputs": [
    {
     "data": {
      "text/plain": [
       "3993"
      ]
     },
     "execution_count": 152,
     "metadata": {},
     "output_type": "execute_result"
    }
   ],
   "source": [
    "vocab_size = len(tokenizer.word_index) + 1\n",
    "vocab_size"
   ]
  },
  {
   "cell_type": "code",
   "execution_count": 153,
   "metadata": {},
   "outputs": [
    {
     "name": "stdout",
     "output_type": "stream",
     "text": [
      "Loaded 400000 word vectors.\n"
     ]
    }
   ],
   "source": [
    "from numpy import array\n",
    "from numpy import asarray\n",
    "from numpy import zeros\n",
    "\n",
    "embeddings_dictionary = dict()\n",
    "\n",
    "glove_file = open('glove.6B.100d.txt', encoding=\"utf8\")\n",
    "\n",
    "for line in glove_file:\n",
    "    records = line.split()\n",
    "    word = records[0]\n",
    "    vector_dimensions = asarray(records[1:], dtype='float32')\n",
    "    embeddings_dictionary[word] = vector_dimensions\n",
    "glove_file.close()\n",
    "print('Loaded %s word vectors.' % len(embeddings_dictionary))"
   ]
  },
  {
   "cell_type": "code",
   "execution_count": 154,
   "metadata": {},
   "outputs": [],
   "source": [
    "embedding_matrix = zeros((vocab_size, 100))\n",
    "\n",
    "for word, index in tokenizer.word_index.items():\n",
    "    embedding_vector = embeddings_dictionary.get(word)\n",
    "    if embedding_vector is not None:\n",
    "        embedding_matrix[index] = embedding_vector"
   ]
  },
  {
   "cell_type": "code",
   "execution_count": 155,
   "metadata": {},
   "outputs": [],
   "source": [
    "deep_inputs = Input(shape=(maxlen,))\n",
    "embedding_layer = Embedding(vocab_size, 100, weights=[embedding_matrix], trainable=False)(deep_inputs)"
   ]
  },
  {
   "cell_type": "code",
   "execution_count": 156,
   "metadata": {},
   "outputs": [],
   "source": [
    "numclass=170\n",
    "\n",
    "model = Sequential()\n",
    "#model.add(Embedding(20000, 100, input_length=50))\n",
    "\n",
    "e = Embedding(vocab_size, 100, weights=[embedding_matrix], input_length=maxlen, trainable=False)\n",
    "\n",
    "model.add(e)\n",
    "model.add(Dropout(0.2))\n",
    "model.add(Conv1D(64, 5, activation='relu'))\n",
    "model.add(MaxPooling1D(pool_size=2))\n",
    "model.add(LSTM(256))\n",
    "model.add(Dense(numclass, activation='softmax'))"
   ]
  },
  {
   "cell_type": "code",
   "execution_count": 157,
   "metadata": {},
   "outputs": [],
   "source": [
    "opt = 'adam'\n",
    "#opt  = RAdam(total_steps=5000, warmup_proportion=0.1, min_lr=1e-5)"
   ]
  },
  {
   "cell_type": "code",
   "execution_count": 158,
   "metadata": {},
   "outputs": [],
   "source": [
    "model.compile(loss='categorical_crossentropy', optimizer=opt, metrics=['accuracy'])"
   ]
  },
  {
   "cell_type": "code",
   "execution_count": 159,
   "metadata": {},
   "outputs": [
    {
     "name": "stdout",
     "output_type": "stream",
     "text": [
      "_________________________________________________________________\n",
      "Layer (type)                 Output Shape              Param #   \n",
      "=================================================================\n",
      "embedding_7 (Embedding)      (None, 50, 100)           399300    \n",
      "_________________________________________________________________\n",
      "dropout_3 (Dropout)          (None, 50, 100)           0         \n",
      "_________________________________________________________________\n",
      "conv1d_3 (Conv1D)            (None, 46, 64)            32064     \n",
      "_________________________________________________________________\n",
      "max_pooling1d_3 (MaxPooling1 (None, 23, 64)            0         \n",
      "_________________________________________________________________\n",
      "lstm_3 (LSTM)                (None, 256)               328704    \n",
      "_________________________________________________________________\n",
      "dense_3 (Dense)              (None, 170)               43690     \n",
      "=================================================================\n",
      "Total params: 803,758\n",
      "Trainable params: 404,458\n",
      "Non-trainable params: 399,300\n",
      "_________________________________________________________________\n"
     ]
    }
   ],
   "source": [
    "model.summary()"
   ]
  },
  {
   "cell_type": "code",
   "execution_count": 160,
   "metadata": {},
   "outputs": [
    {
     "data": {
      "text/plain": [
       "((6931, 50), (6931, 170))"
      ]
     },
     "execution_count": 160,
     "metadata": {},
     "output_type": "execute_result"
    }
   ],
   "source": [
    "X_train.shape, y_train.shape"
   ]
  },
  {
   "cell_type": "code",
   "execution_count": null,
   "metadata": {
    "scrolled": true
   },
   "outputs": [
    {
     "name": "stdout",
     "output_type": "stream",
     "text": [
      "Train on 6237 samples, validate on 694 samples\n",
      "Epoch 1/200\n",
      "6237/6237 [==============================] - 10s 2ms/sample - loss: 4.9177 - acc: 0.1068 - val_loss: 4.3934 - val_acc: 0.1527\n",
      "Epoch 2/200\n",
      "6237/6237 [==============================] - 8s 1ms/sample - loss: 3.8793 - acc: 0.1395 - val_loss: 3.4567 - val_acc: 0.1009\n",
      "Epoch 3/200\n",
      "6237/6237 [==============================] - 8s 1ms/sample - loss: 3.3877 - acc: 0.1565 - val_loss: 3.3092 - val_acc: 0.1787\n",
      "Epoch 4/200\n",
      "6237/6237 [==============================] - 8s 1ms/sample - loss: 3.2289 - acc: 0.2120 - val_loss: 3.1477 - val_acc: 0.1744\n",
      "Epoch 5/200\n",
      "6237/6237 [==============================] - 8s 1ms/sample - loss: 3.0454 - acc: 0.2394 - val_loss: 2.9741 - val_acc: 0.2983\n",
      "Epoch 6/200\n",
      "6237/6237 [==============================] - 8s 1ms/sample - loss: 2.8340 - acc: 0.3195 - val_loss: 2.7312 - val_acc: 0.3876\n",
      "Epoch 7/200\n",
      "6237/6237 [==============================] - 8s 1ms/sample - loss: 2.6033 - acc: 0.3826 - val_loss: 2.5810 - val_acc: 0.4078\n",
      "Epoch 8/200\n",
      "6237/6237 [==============================] - 8s 1ms/sample - loss: 2.4204 - acc: 0.4398 - val_loss: 2.4034 - val_acc: 0.4467\n",
      "Epoch 9/200\n",
      "6237/6237 [==============================] - 8s 1ms/sample - loss: 2.2663 - acc: 0.4602 - val_loss: 2.2466 - val_acc: 0.4726\n",
      "Epoch 10/200\n",
      "6237/6237 [==============================] - 8s 1ms/sample - loss: 2.1226 - acc: 0.4994 - val_loss: 2.1190 - val_acc: 0.4899\n",
      "Epoch 11/200\n",
      "6237/6237 [==============================] - 8s 1ms/sample - loss: 2.0007 - acc: 0.5192 - val_loss: 2.0246 - val_acc: 0.5202\n",
      "Epoch 12/200\n",
      "6237/6237 [==============================] - 8s 1ms/sample - loss: 1.8968 - acc: 0.5511 - val_loss: 1.9344 - val_acc: 0.5533\n",
      "Epoch 13/200\n",
      "6237/6237 [==============================] - 8s 1ms/sample - loss: 1.8095 - acc: 0.5717 - val_loss: 1.8771 - val_acc: 0.5764\n",
      "Epoch 14/200\n",
      "6237/6237 [==============================] - 8s 1ms/sample - loss: 1.7385 - acc: 0.5878 - val_loss: 1.7947 - val_acc: 0.6037\n",
      "Epoch 15/200\n",
      "6237/6237 [==============================] - 9s 1ms/sample - loss: 1.6701 - acc: 0.5993 - val_loss: 1.7443 - val_acc: 0.6167\n",
      "Epoch 16/200\n",
      "6237/6237 [==============================] - 8s 1ms/sample - loss: 1.5983 - acc: 0.6200 - val_loss: 1.6801 - val_acc: 0.6326\n",
      "Epoch 17/200\n",
      "6237/6237 [==============================] - 8s 1ms/sample - loss: 1.5362 - acc: 0.6359 - val_loss: 1.6249 - val_acc: 0.6326\n",
      "Epoch 18/200\n",
      "6237/6237 [==============================] - 8s 1ms/sample - loss: 1.4847 - acc: 0.6460 - val_loss: 1.5842 - val_acc: 0.6571\n",
      "Epoch 19/200\n",
      "6237/6237 [==============================] - 8s 1ms/sample - loss: 1.4348 - acc: 0.6596 - val_loss: 1.5368 - val_acc: 0.6556\n",
      "Epoch 20/200\n",
      "6237/6237 [==============================] - 8s 1ms/sample - loss: 1.3922 - acc: 0.6699 - val_loss: 1.5360 - val_acc: 0.6657\n",
      "Epoch 21/200\n",
      "6237/6237 [==============================] - 8s 1ms/sample - loss: 1.3447 - acc: 0.6856 - val_loss: 1.4685 - val_acc: 0.6758\n",
      "Epoch 22/200\n",
      "6237/6237 [==============================] - 8s 1ms/sample - loss: 1.2888 - acc: 0.6909 - val_loss: 1.4516 - val_acc: 0.6816\n",
      "Epoch 23/200\n",
      "6237/6237 [==============================] - 8s 1ms/sample - loss: 1.2460 - acc: 0.7050 - val_loss: 1.4251 - val_acc: 0.6902\n",
      "Epoch 24/200\n",
      "6237/6237 [==============================] - 8s 1ms/sample - loss: 1.2141 - acc: 0.7138 - val_loss: 1.3893 - val_acc: 0.6801\n",
      "Epoch 25/200\n",
      "6237/6237 [==============================] - 8s 1ms/sample - loss: 1.1797 - acc: 0.7172 - val_loss: 1.3643 - val_acc: 0.6960\n",
      "Epoch 26/200\n",
      "6237/6237 [==============================] - 8s 1ms/sample - loss: 1.1487 - acc: 0.7247 - val_loss: 1.3443 - val_acc: 0.6960\n",
      "Epoch 27/200\n",
      "6237/6237 [==============================] - 8s 1ms/sample - loss: 1.1264 - acc: 0.7278 - val_loss: 1.3265 - val_acc: 0.6974\n",
      "Epoch 28/200\n",
      "6237/6237 [==============================] - 8s 1ms/sample - loss: 1.0999 - acc: 0.7385 - val_loss: 1.2896 - val_acc: 0.7061\n",
      "Epoch 29/200\n",
      "6237/6237 [==============================] - 8s 1ms/sample - loss: 1.0666 - acc: 0.7451 - val_loss: 1.2761 - val_acc: 0.6888\n",
      "Epoch 30/200\n",
      "6237/6237 [==============================] - 9s 1ms/sample - loss: 1.0367 - acc: 0.7481 - val_loss: 1.2865 - val_acc: 0.7133\n",
      "Epoch 31/200\n",
      "6237/6237 [==============================] - 8s 1ms/sample - loss: 0.9994 - acc: 0.7592 - val_loss: 1.2410 - val_acc: 0.7190\n",
      "Epoch 32/200\n",
      "6237/6237 [==============================] - 8s 1ms/sample - loss: 0.9870 - acc: 0.7595 - val_loss: 1.2228 - val_acc: 0.7061\n",
      "Epoch 33/200\n",
      "6237/6237 [==============================] - 8s 1ms/sample - loss: 0.9575 - acc: 0.7685 - val_loss: 1.2166 - val_acc: 0.7147\n",
      "Epoch 34/200\n",
      "6237/6237 [==============================] - 8s 1ms/sample - loss: 0.9474 - acc: 0.7667 - val_loss: 1.2056 - val_acc: 0.7291\n",
      "Epoch 35/200\n",
      "6237/6237 [==============================] - 8s 1ms/sample - loss: 0.9177 - acc: 0.7763 - val_loss: 1.1895 - val_acc: 0.7262\n",
      "Epoch 36/200\n",
      "6237/6237 [==============================] - 8s 1ms/sample - loss: 0.8971 - acc: 0.7794 - val_loss: 1.1754 - val_acc: 0.7248\n",
      "Epoch 37/200\n",
      "6237/6237 [==============================] - 8s 1ms/sample - loss: 0.8795 - acc: 0.7844 - val_loss: 1.1713 - val_acc: 0.7248\n",
      "Epoch 38/200\n",
      "6237/6237 [==============================] - 8s 1ms/sample - loss: 0.8633 - acc: 0.7819 - val_loss: 1.1472 - val_acc: 0.7334\n",
      "Epoch 39/200\n",
      "6237/6237 [==============================] - 8s 1ms/sample - loss: 0.8496 - acc: 0.7874 - val_loss: 1.1347 - val_acc: 0.7406\n",
      "Epoch 40/200\n",
      "6237/6237 [==============================] - 8s 1ms/sample - loss: 0.8311 - acc: 0.7925 - val_loss: 1.1347 - val_acc: 0.7406\n",
      "Epoch 41/200\n",
      "6237/6237 [==============================] - 8s 1ms/sample - loss: 0.8050 - acc: 0.7957 - val_loss: 1.1187 - val_acc: 0.7464\n",
      "Epoch 42/200\n",
      "6237/6237 [==============================] - 8s 1ms/sample - loss: 0.7813 - acc: 0.8103 - val_loss: 1.0886 - val_acc: 0.7406\n",
      "Epoch 43/200\n",
      "6237/6237 [==============================] - 8s 1ms/sample - loss: 0.7843 - acc: 0.8030 - val_loss: 1.0901 - val_acc: 0.7493\n",
      "Epoch 44/200\n",
      "6237/6237 [==============================] - 8s 1ms/sample - loss: 0.7536 - acc: 0.8073 - val_loss: 1.0829 - val_acc: 0.7522\n",
      "Epoch 45/200\n",
      "6237/6237 [==============================] - 8s 1ms/sample - loss: 0.7380 - acc: 0.8129 - val_loss: 1.0921 - val_acc: 0.7550\n",
      "Epoch 46/200\n",
      "6237/6237 [==============================] - 8s 1ms/sample - loss: 0.7371 - acc: 0.8126 - val_loss: 1.0733 - val_acc: 0.7522\n",
      "Epoch 47/200\n",
      "6237/6237 [==============================] - 9s 1ms/sample - loss: 0.7338 - acc: 0.8127 - val_loss: 1.0572 - val_acc: 0.7464\n",
      "Epoch 48/200\n",
      "6237/6237 [==============================] - 8s 1ms/sample - loss: 0.7154 - acc: 0.8158 - val_loss: 1.0721 - val_acc: 0.7450\n",
      "Epoch 49/200\n",
      "6237/6237 [==============================] - 8s 1ms/sample - loss: 0.7036 - acc: 0.8224 - val_loss: 1.0545 - val_acc: 0.7406\n",
      "Epoch 50/200\n",
      "6237/6237 [==============================] - 8s 1ms/sample - loss: 0.6856 - acc: 0.8260 - val_loss: 1.0264 - val_acc: 0.7622\n",
      "Epoch 51/200\n",
      "6237/6237 [==============================] - 8s 1ms/sample - loss: 0.6664 - acc: 0.8264 - val_loss: 1.0255 - val_acc: 0.7723\n",
      "Epoch 52/200\n",
      "6237/6237 [==============================] - 8s 1ms/sample - loss: 0.6559 - acc: 0.8288 - val_loss: 1.0094 - val_acc: 0.7709\n",
      "Epoch 53/200\n",
      "6237/6237 [==============================] - 8s 1ms/sample - loss: 0.6442 - acc: 0.8355 - val_loss: 1.0026 - val_acc: 0.7680\n",
      "Epoch 54/200\n",
      "6237/6237 [==============================] - 8s 1ms/sample - loss: 0.6306 - acc: 0.8389 - val_loss: 1.0260 - val_acc: 0.7651\n",
      "Epoch 55/200\n",
      "6237/6237 [==============================] - 8s 1ms/sample - loss: 0.6216 - acc: 0.8429 - val_loss: 1.0253 - val_acc: 0.7594\n",
      "Epoch 56/200\n",
      "6237/6237 [==============================] - 8s 1ms/sample - loss: 0.6127 - acc: 0.8440 - val_loss: 1.0345 - val_acc: 0.7493\n",
      "Epoch 57/200\n",
      "6237/6237 [==============================] - 8s 1ms/sample - loss: 0.6027 - acc: 0.8514 - val_loss: 0.9988 - val_acc: 0.7723\n",
      "Epoch 58/200\n",
      "6237/6237 [==============================] - 8s 1ms/sample - loss: 0.5960 - acc: 0.8467 - val_loss: 0.9874 - val_acc: 0.7723\n",
      "Epoch 59/200\n",
      "6237/6237 [==============================] - 8s 1ms/sample - loss: 0.5779 - acc: 0.8539 - val_loss: 0.9879 - val_acc: 0.7781\n",
      "Epoch 60/200\n",
      "6237/6237 [==============================] - 8s 1ms/sample - loss: 0.5652 - acc: 0.8546 - val_loss: 0.9755 - val_acc: 0.7824\n",
      "Epoch 61/200\n",
      "6237/6237 [==============================] - 8s 1ms/sample - loss: 0.5563 - acc: 0.8539 - val_loss: 1.0044 - val_acc: 0.7637\n",
      "Epoch 62/200\n",
      "6237/6237 [==============================] - 8s 1ms/sample - loss: 0.5643 - acc: 0.8552 - val_loss: 0.9607 - val_acc: 0.7867\n",
      "Epoch 63/200\n",
      "6237/6237 [==============================] - 8s 1ms/sample - loss: 0.5442 - acc: 0.8597 - val_loss: 0.9833 - val_acc: 0.7738\n",
      "Epoch 64/200\n",
      "6237/6237 [==============================] - 10s 2ms/sample - loss: 0.5372 - acc: 0.8647 - val_loss: 0.9493 - val_acc: 0.7839\n",
      "Epoch 65/200\n",
      "6237/6237 [==============================] - 10s 2ms/sample - loss: 0.5311 - acc: 0.8668 - val_loss: 0.9591 - val_acc: 0.7882\n",
      "Epoch 66/200\n",
      "6237/6237 [==============================] - 9s 1ms/sample - loss: 0.5449 - acc: 0.8570 - val_loss: 0.9661 - val_acc: 0.7795\n",
      "Epoch 67/200\n",
      "6237/6237 [==============================] - 10s 2ms/sample - loss: 0.5168 - acc: 0.8677 - val_loss: 0.9515 - val_acc: 0.7867\n",
      "Epoch 68/200\n",
      "6237/6237 [==============================] - 10s 2ms/sample - loss: 0.5089 - acc: 0.8658 - val_loss: 0.9504 - val_acc: 0.7795\n",
      "Epoch 69/200\n",
      "6237/6237 [==============================] - 10s 2ms/sample - loss: 0.4947 - acc: 0.8705 - val_loss: 0.9327 - val_acc: 0.7911\n",
      "Epoch 70/200\n",
      "6237/6237 [==============================] - 10s 2ms/sample - loss: 0.4848 - acc: 0.8762 - val_loss: 0.9329 - val_acc: 0.7824\n",
      "Epoch 71/200\n",
      "6237/6237 [==============================] - 10s 2ms/sample - loss: 0.4727 - acc: 0.8788 - val_loss: 0.9317 - val_acc: 0.7896\n",
      "Epoch 72/200\n",
      "6237/6237 [==============================] - 10s 2ms/sample - loss: 0.4700 - acc: 0.8765 - val_loss: 0.9245 - val_acc: 0.7911\n",
      "Epoch 73/200\n",
      "6237/6237 [==============================] - 10s 2ms/sample - loss: 0.4603 - acc: 0.8826 - val_loss: 0.9273 - val_acc: 0.7925\n",
      "Epoch 74/200\n",
      "6237/6237 [==============================] - 10s 2ms/sample - loss: 0.4536 - acc: 0.8858 - val_loss: 0.9196 - val_acc: 0.7925\n",
      "Epoch 75/200\n",
      "6237/6237 [==============================] - 10s 2ms/sample - loss: 0.4359 - acc: 0.8873 - val_loss: 0.9186 - val_acc: 0.7882\n",
      "Epoch 76/200\n",
      "6237/6237 [==============================] - 10s 2ms/sample - loss: 0.4352 - acc: 0.8911 - val_loss: 0.9081 - val_acc: 0.7997\n",
      "Epoch 77/200\n",
      "6237/6237 [==============================] - 10s 2ms/sample - loss: 0.4267 - acc: 0.8953 - val_loss: 0.9143 - val_acc: 0.7983\n",
      "Epoch 78/200\n",
      "6237/6237 [==============================] - 10s 2ms/sample - loss: 0.4130 - acc: 0.8979 - val_loss: 0.9013 - val_acc: 0.7939\n",
      "Epoch 79/200\n",
      "6237/6237 [==============================] - 11s 2ms/sample - loss: 0.4171 - acc: 0.8910 - val_loss: 0.9021 - val_acc: 0.7968\n",
      "Epoch 80/200\n",
      "6237/6237 [==============================] - 10s 2ms/sample - loss: 0.4265 - acc: 0.8878 - val_loss: 0.9315 - val_acc: 0.7911\n",
      "Epoch 81/200\n",
      "6237/6237 [==============================] - 10s 2ms/sample - loss: 0.4156 - acc: 0.8932 - val_loss: 0.9205 - val_acc: 0.7882\n",
      "Epoch 82/200\n",
      "6237/6237 [==============================] - 10s 2ms/sample - loss: 0.4068 - acc: 0.8983 - val_loss: 0.9216 - val_acc: 0.7911\n",
      "Epoch 83/200\n",
      "6237/6237 [==============================] - 10s 2ms/sample - loss: 0.4059 - acc: 0.8964 - val_loss: 0.9262 - val_acc: 0.8084\n",
      "Epoch 84/200\n",
      "6237/6237 [==============================] - 9s 1ms/sample - loss: 0.3974 - acc: 0.8987 - val_loss: 0.9002 - val_acc: 0.7997\n",
      "Epoch 85/200\n",
      "6237/6237 [==============================] - 9s 1ms/sample - loss: 0.3830 - acc: 0.9009 - val_loss: 0.9081 - val_acc: 0.7896\n",
      "Epoch 86/200\n",
      "6237/6237 [==============================] - 8s 1ms/sample - loss: 0.3900 - acc: 0.8987 - val_loss: 0.9040 - val_acc: 0.7896\n",
      "Epoch 87/200\n",
      "6237/6237 [==============================] - 9s 1ms/sample - loss: 0.3857 - acc: 0.9008 - val_loss: 0.8994 - val_acc: 0.7997\n",
      "Epoch 88/200\n",
      "6237/6237 [==============================] - 8s 1ms/sample - loss: 0.3728 - acc: 0.9024 - val_loss: 0.8916 - val_acc: 0.7983\n",
      "Epoch 89/200\n",
      "6237/6237 [==============================] - 8s 1ms/sample - loss: 0.3696 - acc: 0.9033 - val_loss: 0.8765 - val_acc: 0.7968\n",
      "Epoch 90/200\n",
      "6237/6237 [==============================] - 9s 1ms/sample - loss: 0.3607 - acc: 0.9070 - val_loss: 0.9008 - val_acc: 0.8040\n",
      "Epoch 91/200\n",
      "6237/6237 [==============================] - 8s 1ms/sample - loss: 0.3614 - acc: 0.9060 - val_loss: 0.8810 - val_acc: 0.8055\n",
      "Epoch 92/200\n",
      "6237/6237 [==============================] - 11s 2ms/sample - loss: 0.3455 - acc: 0.9099 - val_loss: 0.8875 - val_acc: 0.7983\n",
      "Epoch 93/200\n",
      "6237/6237 [==============================] - 11s 2ms/sample - loss: 0.3567 - acc: 0.9048 - val_loss: 0.8846 - val_acc: 0.7997\n",
      "Epoch 94/200\n",
      "6237/6237 [==============================] - 13s 2ms/sample - loss: 0.3400 - acc: 0.9101 - val_loss: 0.8781 - val_acc: 0.7983\n",
      "Epoch 95/200\n",
      "6237/6237 [==============================] - 11s 2ms/sample - loss: 0.3391 - acc: 0.9136 - val_loss: 0.8944 - val_acc: 0.8055\n",
      "Epoch 96/200\n",
      "6237/6237 [==============================] - 10s 2ms/sample - loss: 0.3314 - acc: 0.9176 - val_loss: 0.8709 - val_acc: 0.8098\n",
      "Epoch 97/200\n",
      "6237/6237 [==============================] - 8s 1ms/sample - loss: 0.3226 - acc: 0.9142 - val_loss: 0.8686 - val_acc: 0.8012\n",
      "Epoch 98/200\n",
      "6237/6237 [==============================] - 8s 1ms/sample - loss: 0.3236 - acc: 0.9168 - val_loss: 0.8714 - val_acc: 0.8026\n",
      "Epoch 99/200\n",
      "6237/6237 [==============================] - 8s 1ms/sample - loss: 0.3212 - acc: 0.9165 - val_loss: 0.8708 - val_acc: 0.8098\n",
      "Epoch 100/200\n",
      "6237/6237 [==============================] - 8s 1ms/sample - loss: 0.3216 - acc: 0.9176 - val_loss: 0.8674 - val_acc: 0.8069\n",
      "Epoch 101/200\n",
      "6237/6237 [==============================] - 8s 1ms/sample - loss: 0.3189 - acc: 0.9174 - val_loss: 0.8832 - val_acc: 0.8040\n",
      "Epoch 102/200\n",
      "6237/6237 [==============================] - 8s 1ms/sample - loss: 0.3188 - acc: 0.9182 - val_loss: 0.8579 - val_acc: 0.8055\n",
      "Epoch 103/200\n",
      "6237/6237 [==============================] - 8s 1ms/sample - loss: 0.3033 - acc: 0.9169 - val_loss: 0.8662 - val_acc: 0.8112\n",
      "Epoch 104/200\n",
      "6237/6237 [==============================] - 8s 1ms/sample - loss: 0.3078 - acc: 0.9210 - val_loss: 0.8641 - val_acc: 0.8141\n",
      "Epoch 105/200\n",
      "6237/6237 [==============================] - 8s 1ms/sample - loss: 0.3094 - acc: 0.9141 - val_loss: 0.8557 - val_acc: 0.8084\n",
      "Epoch 106/200\n",
      "6237/6237 [==============================] - 8s 1ms/sample - loss: 0.3117 - acc: 0.9192 - val_loss: 0.8766 - val_acc: 0.8156\n",
      "Epoch 107/200\n",
      "6237/6237 [==============================] - 8s 1ms/sample - loss: 0.2950 - acc: 0.9245 - val_loss: 0.8651 - val_acc: 0.8199\n",
      "Epoch 108/200\n",
      "6237/6237 [==============================] - 8s 1ms/sample - loss: 0.2886 - acc: 0.9224 - val_loss: 0.8742 - val_acc: 0.8112\n",
      "Epoch 109/200\n",
      "6237/6237 [==============================] - 8s 1ms/sample - loss: 0.2829 - acc: 0.9267 - val_loss: 0.8752 - val_acc: 0.8098\n",
      "Epoch 110/200\n",
      "6237/6237 [==============================] - 8s 1ms/sample - loss: 0.2804 - acc: 0.9280 - val_loss: 0.8699 - val_acc: 0.8141\n",
      "Epoch 111/200\n",
      "6237/6237 [==============================] - 8s 1ms/sample - loss: 0.2721 - acc: 0.9301 - val_loss: 0.8672 - val_acc: 0.8256\n",
      "Epoch 112/200\n",
      "6237/6237 [==============================] - 8s 1ms/sample - loss: 0.2712 - acc: 0.9288 - val_loss: 0.8659 - val_acc: 0.8170\n",
      "Epoch 113/200\n",
      "6237/6237 [==============================] - 8s 1ms/sample - loss: 0.2664 - acc: 0.9315 - val_loss: 0.8626 - val_acc: 0.8098\n",
      "Epoch 114/200\n",
      "6237/6237 [==============================] - 8s 1ms/sample - loss: 0.2678 - acc: 0.9278 - val_loss: 0.8848 - val_acc: 0.8141\n",
      "Epoch 115/200\n",
      "6237/6237 [==============================] - 8s 1ms/sample - loss: 0.2658 - acc: 0.9314 - val_loss: 0.8670 - val_acc: 0.8141\n",
      "Epoch 116/200\n",
      "6237/6237 [==============================] - 8s 1ms/sample - loss: 0.2668 - acc: 0.9296 - val_loss: 0.8654 - val_acc: 0.8141\n",
      "Epoch 117/200\n",
      "6237/6237 [==============================] - 8s 1ms/sample - loss: 0.2648 - acc: 0.9314 - val_loss: 0.8828 - val_acc: 0.8084\n",
      "Epoch 118/200\n",
      "6237/6237 [==============================] - 8s 1ms/sample - loss: 0.2588 - acc: 0.9327 - val_loss: 0.8504 - val_acc: 0.8184\n",
      "Epoch 119/200\n",
      "6237/6237 [==============================] - 9s 1ms/sample - loss: 0.2543 - acc: 0.9336 - val_loss: 0.8787 - val_acc: 0.8084\n",
      "Epoch 120/200\n",
      "6237/6237 [==============================] - 9s 1ms/sample - loss: 0.2611 - acc: 0.9290 - val_loss: 0.8877 - val_acc: 0.8055\n",
      "Epoch 121/200\n",
      "6237/6237 [==============================] - 8s 1ms/sample - loss: 0.2556 - acc: 0.9323 - val_loss: 0.8932 - val_acc: 0.8069\n",
      "Epoch 122/200\n",
      "6237/6237 [==============================] - 8s 1ms/sample - loss: 0.2589 - acc: 0.9285 - val_loss: 0.8806 - val_acc: 0.8112\n",
      "Epoch 123/200\n",
      "6237/6237 [==============================] - 8s 1ms/sample - loss: 0.2565 - acc: 0.9319 - val_loss: 0.8879 - val_acc: 0.8112\n",
      "Epoch 124/200\n",
      "6237/6237 [==============================] - 8s 1ms/sample - loss: 0.2510 - acc: 0.9309 - val_loss: 0.8573 - val_acc: 0.8069\n",
      "Epoch 125/200\n",
      "6237/6237 [==============================] - 8s 1ms/sample - loss: 0.2546 - acc: 0.9311 - val_loss: 0.8821 - val_acc: 0.8112\n",
      "Epoch 126/200\n",
      "6237/6237 [==============================] - 8s 1ms/sample - loss: 0.2477 - acc: 0.9354 - val_loss: 0.8759 - val_acc: 0.8069\n",
      "Epoch 127/200\n",
      "6237/6237 [==============================] - 8s 1ms/sample - loss: 0.2434 - acc: 0.9339 - val_loss: 0.8836 - val_acc: 0.8026\n",
      "Epoch 128/200\n",
      "6237/6237 [==============================] - 8s 1ms/sample - loss: 0.2393 - acc: 0.9349 - val_loss: 0.8708 - val_acc: 0.8127\n",
      "Epoch 129/200\n",
      "6237/6237 [==============================] - 8s 1ms/sample - loss: 0.2446 - acc: 0.9355 - val_loss: 0.8727 - val_acc: 0.8112\n",
      "Epoch 130/200\n",
      "6237/6237 [==============================] - 8s 1ms/sample - loss: 0.2280 - acc: 0.9399 - val_loss: 0.8850 - val_acc: 0.8141\n",
      "Epoch 131/200\n",
      "6237/6237 [==============================] - 8s 1ms/sample - loss: 0.2406 - acc: 0.9370 - val_loss: 0.8885 - val_acc: 0.8170\n",
      "Epoch 132/200\n",
      "6237/6237 [==============================] - 8s 1ms/sample - loss: 0.2378 - acc: 0.9330 - val_loss: 0.8802 - val_acc: 0.8170\n",
      "Epoch 133/200\n",
      "6237/6237 [==============================] - 8s 1ms/sample - loss: 0.2298 - acc: 0.9371 - val_loss: 0.8779 - val_acc: 0.8098\n",
      "Epoch 134/200\n",
      "6237/6237 [==============================] - 8s 1ms/sample - loss: 0.2279 - acc: 0.9381 - val_loss: 0.8803 - val_acc: 0.8141\n",
      "Epoch 135/200\n",
      "6237/6237 [==============================] - 8s 1ms/sample - loss: 0.2215 - acc: 0.9418 - val_loss: 0.8637 - val_acc: 0.8156\n",
      "Epoch 136/200\n",
      "6237/6237 [==============================] - 8s 1ms/sample - loss: 0.2154 - acc: 0.9434 - val_loss: 0.8992 - val_acc: 0.8156\n",
      "Epoch 137/200\n",
      "6237/6237 [==============================] - 8s 1ms/sample - loss: 0.2194 - acc: 0.9392 - val_loss: 0.8983 - val_acc: 0.8127\n",
      "Epoch 138/200\n",
      "6237/6237 [==============================] - 8s 1ms/sample - loss: 0.2139 - acc: 0.9416 - val_loss: 0.8788 - val_acc: 0.8184\n",
      "Epoch 139/200\n",
      "6237/6237 [==============================] - 8s 1ms/sample - loss: 0.2188 - acc: 0.9397 - val_loss: 0.8869 - val_acc: 0.8141\n",
      "Epoch 140/200\n",
      "6237/6237 [==============================] - 8s 1ms/sample - loss: 0.2109 - acc: 0.9424 - val_loss: 0.8754 - val_acc: 0.8184\n",
      "Epoch 141/200\n",
      "6237/6237 [==============================] - 10s 2ms/sample - loss: 0.2113 - acc: 0.9431 - val_loss: 0.8734 - val_acc: 0.8141\n",
      "Epoch 142/200\n",
      "6237/6237 [==============================] - 10s 2ms/sample - loss: 0.2103 - acc: 0.9461 - val_loss: 0.8734 - val_acc: 0.8213\n",
      "Epoch 143/200\n",
      "6237/6237 [==============================] - 11s 2ms/sample - loss: 0.2094 - acc: 0.9423 - val_loss: 0.8769 - val_acc: 0.8170\n",
      "Epoch 144/200\n",
      "6237/6237 [==============================] - 10s 2ms/sample - loss: 0.2091 - acc: 0.9423 - val_loss: 0.8688 - val_acc: 0.8170\n",
      "Epoch 145/200\n",
      "6237/6237 [==============================] - 10s 2ms/sample - loss: 0.2069 - acc: 0.9447 - val_loss: 0.8729 - val_acc: 0.8156\n",
      "Epoch 146/200\n",
      "6237/6237 [==============================] - 9s 1ms/sample - loss: 0.2034 - acc: 0.9453 - val_loss: 0.8702 - val_acc: 0.8156\n",
      "Epoch 147/200\n",
      "6237/6237 [==============================] - 8s 1ms/sample - loss: 0.1929 - acc: 0.9471 - val_loss: 0.8670 - val_acc: 0.8170\n",
      "Epoch 148/200\n",
      "6237/6237 [==============================] - 8s 1ms/sample - loss: 0.2021 - acc: 0.9463 - val_loss: 0.8745 - val_acc: 0.8141\n",
      "Epoch 149/200\n",
      "6237/6237 [==============================] - 8s 1ms/sample - loss: 0.1988 - acc: 0.9466 - val_loss: 0.8836 - val_acc: 0.8199\n",
      "Epoch 150/200\n",
      "6237/6237 [==============================] - 8s 1ms/sample - loss: 0.1981 - acc: 0.9448 - val_loss: 0.8807 - val_acc: 0.8141\n",
      "Epoch 151/200\n",
      "6237/6237 [==============================] - 8s 1ms/sample - loss: 0.1984 - acc: 0.9450 - val_loss: 0.8827 - val_acc: 0.8112\n",
      "Epoch 152/200\n",
      "6237/6237 [==============================] - 9s 1ms/sample - loss: 0.1958 - acc: 0.9447 - val_loss: 0.9063 - val_acc: 0.8141\n",
      "Epoch 153/200\n",
      "6237/6237 [==============================] - 8s 1ms/sample - loss: 0.1975 - acc: 0.9448 - val_loss: 0.8751 - val_acc: 0.8141\n",
      "Epoch 154/200\n",
      "6237/6237 [==============================] - 8s 1ms/sample - loss: 0.1919 - acc: 0.9474 - val_loss: 0.8858 - val_acc: 0.8112\n",
      "Epoch 155/200\n",
      "6237/6237 [==============================] - 9s 1ms/sample - loss: 0.1932 - acc: 0.9466 - val_loss: 0.8965 - val_acc: 0.8170\n",
      "Epoch 156/200\n",
      "6237/6237 [==============================] - 8s 1ms/sample - loss: 0.1909 - acc: 0.9456 - val_loss: 0.8849 - val_acc: 0.8170\n",
      "Epoch 157/200\n",
      "6237/6237 [==============================] - 8s 1ms/sample - loss: 0.1873 - acc: 0.9481 - val_loss: 0.9007 - val_acc: 0.8112\n",
      "Epoch 158/200\n",
      "6237/6237 [==============================] - 8s 1ms/sample - loss: 0.1909 - acc: 0.9445 - val_loss: 0.8878 - val_acc: 0.8156\n",
      "Epoch 159/200\n",
      "6237/6237 [==============================] - 8s 1ms/sample - loss: 0.1856 - acc: 0.9505 - val_loss: 0.8914 - val_acc: 0.8127\n",
      "Epoch 160/200\n",
      "6237/6237 [==============================] - 8s 1ms/sample - loss: 0.1831 - acc: 0.9490 - val_loss: 0.8894 - val_acc: 0.8127\n",
      "Epoch 161/200\n",
      "6237/6237 [==============================] - 8s 1ms/sample - loss: 0.1764 - acc: 0.9525 - val_loss: 0.8919 - val_acc: 0.8184\n",
      "Epoch 162/200\n",
      "6237/6237 [==============================] - 8s 1ms/sample - loss: 0.1844 - acc: 0.9508 - val_loss: 0.8760 - val_acc: 0.8127\n",
      "Epoch 163/200\n",
      "6237/6237 [==============================] - 8s 1ms/sample - loss: 0.1795 - acc: 0.9511 - val_loss: 0.8878 - val_acc: 0.8127\n",
      "Epoch 164/200\n",
      "3072/6237 [=============>................] - ETA: 3s - loss: 0.1693 - acc: 0.9574"
     ]
    }
   ],
   "source": [
    "EPOCHS = 200\n",
    "H = model.fit(X_train, y_train,\n",
    "                    batch_size=1024,\n",
    "                    epochs=EPOCHS,\n",
    "                    verbose=1,\n",
    "                    validation_split=0.1)"
   ]
  },
  {
   "cell_type": "code",
   "execution_count": 132,
   "metadata": {},
   "outputs": [
    {
     "name": "stdout",
     "output_type": "stream",
     "text": [
      "1733/1733 [==============================] - 0s 216us/sample - loss: 0.9465 - acc: 0.7830\n",
      "Test accuracy: 0.7830352\n"
     ]
    }
   ],
   "source": [
    "score = model.evaluate(X_test, y_test,\n",
    "                       batch_size=256, verbose=1)\n",
    "print('Test accuracy:', score[1])"
   ]
  },
  {
   "cell_type": "code",
   "execution_count": 133,
   "metadata": {},
   "outputs": [
    {
     "data": {
      "text/plain": [
       "array([[   0,    0,    0,    0,    0,    0,    0,    0,    0,    0,    0,\n",
       "           0,    0,    0,    0,    0,    0,    0,    0,    0,    0,    0,\n",
       "           0,    0,    0,    0,    0,    0,    0,    0,    0,    0,    0,\n",
       "           0,    0,    0,    0,    0,    0,    0,    0,    0,    0,    0,\n",
       "           0,    0,    0, 2615,  673, 1077]], dtype=int32)"
      ]
     },
     "execution_count": 133,
     "metadata": {},
     "output_type": "execute_result"
    }
   ],
   "source": [
    "sequences = tokenizer.texts_to_sequences(['DIKETO ACID UNMILLED'])\n",
    "X_test_testing = pad_sequences(sequences, maxlen=50)\n",
    "X_test_testing"
   ]
  },
  {
   "cell_type": "code",
   "execution_count": 134,
   "metadata": {},
   "outputs": [],
   "source": [
    "preds1 = model.predict(X_test_testing)"
   ]
  },
  {
   "cell_type": "code",
   "execution_count": 135,
   "metadata": {},
   "outputs": [
    {
     "data": {
      "text/plain": [
       "80"
      ]
     },
     "execution_count": 135,
     "metadata": {},
     "output_type": "execute_result"
    }
   ],
   "source": [
    "np.argmax(preds1[0])"
   ]
  },
  {
   "cell_type": "code",
   "execution_count": 136,
   "metadata": {},
   "outputs": [],
   "source": [
    "# creates a HDF5 file 'LRA.h5'\n",
    "model.save('HTS_Glove.h5')\n",
    "# Save the model architecture\n",
    "with open('HTS_model_architecture_Glove.json', 'w') as f:\n",
    "    f.write(model.to_json())"
   ]
  },
  {
   "cell_type": "code",
   "execution_count": 137,
   "metadata": {},
   "outputs": [],
   "source": [
    "# Save Tokenizer i.e. Vocabulary\n",
    "import pickle\n",
    "with open('HTS_tokenizer_Glove.pickle', 'wb') as handle:\n",
    "    pickle.dump(tokenizer, handle, protocol=pickle.HIGHEST_PROTOCOL)"
   ]
  },
  {
   "cell_type": "code",
   "execution_count": 138,
   "metadata": {},
   "outputs": [],
   "source": [
    "# ********************** PREDICTION ******************************************"
   ]
  },
  {
   "cell_type": "code",
   "execution_count": 139,
   "metadata": {},
   "outputs": [],
   "source": [
    "# load tokenizer\n",
    "import pickle\n",
    "with open('HTS_tokenizer_Glove.pickle', 'rb') as handle:\n",
    "    tokenizer1 = pickle.load(handle)"
   ]
  },
  {
   "cell_type": "code",
   "execution_count": 140,
   "metadata": {},
   "outputs": [],
   "source": [
    "from tensorflow.keras.models import model_from_json\n",
    "\n",
    "# Model reconstruction from JSON file\n",
    "with open('HTS_model_architecture_Glove.json', 'r') as f:\n",
    "    model1 = model_from_json(f.read())\n",
    "\n",
    "# Load weights into the new model\n",
    "model1.load_weights('HTS_Glove.h5')"
   ]
  },
  {
   "cell_type": "code",
   "execution_count": 141,
   "metadata": {},
   "outputs": [
    {
     "data": {
      "text/plain": [
       "array([[   0,    0,    0,    0,    0,    0,    0,    0,    0,    0,    0,\n",
       "           0,    0,    0,    0,    0,    0,    0,    0,    0,    0,    0,\n",
       "           0,    0,    0,    0,    0,    0,    0,    0,    0,    0,    0,\n",
       "           0,    0,    0,    0,    0,    0,    0,    0,    0,    0,    0,\n",
       "           0, 1776,  485,  283,  171,  278]], dtype=int32)"
      ]
     },
     "execution_count": 141,
     "metadata": {},
     "output_type": "execute_result"
    }
   ],
   "source": [
    "sequences = tokenizer1.texts_to_sequences(['VAGISIL MEDICATED ANTI-ITCH WIPES 12 CT'])\n",
    "X_test_testing = pad_sequences(sequences, maxlen=50)\n",
    "X_test_testing"
   ]
  },
  {
   "cell_type": "code",
   "execution_count": 142,
   "metadata": {},
   "outputs": [],
   "source": [
    "predsX = model1.predict(X_test_testing)"
   ]
  },
  {
   "cell_type": "code",
   "execution_count": 143,
   "metadata": {},
   "outputs": [
    {
     "data": {
      "text/plain": [
       "137"
      ]
     },
     "execution_count": 143,
     "metadata": {},
     "output_type": "execute_result"
    }
   ],
   "source": [
    "np.argmax(predsX[0])"
   ]
  },
  {
   "cell_type": "code",
   "execution_count": 144,
   "metadata": {},
   "outputs": [],
   "source": [
    "###############################################################################"
   ]
  },
  {
   "cell_type": "code",
   "execution_count": 145,
   "metadata": {},
   "outputs": [
    {
     "data": {
      "text/plain": [
       "<matplotlib.legend.Legend at 0x7fd18a5b6908>"
      ]
     },
     "execution_count": 145,
     "metadata": {},
     "output_type": "execute_result"
    },
    {
     "data": {
      "image/png": "[encoded data removed]",
      "text/plain": [
       "<Figure size 432x288 with 1 Axes>"
      ]
     },
     "metadata": {},
     "output_type": "display_data"
    }
   ],
   "source": [
    "history = H\n",
    "import matplotlib.pyplot as plt\n",
    "\n",
    "N = np.arange(0, EPOCHS)\n",
    "title = \"Training Loss and Accuracy\"\n",
    " \n",
    "# plot the training loss and accuracy\n",
    "plt.style.use(\"ggplot\")\n",
    "plt.figure()\n",
    "plt.plot(N, H.history[\"loss\"], label=\"train_loss\")\n",
    "plt.plot(N, H.history[\"val_loss\"], label=\"val_loss\")\n",
    "plt.plot(N, H.history[\"acc\"], label=\"train_acc\")\n",
    "plt.plot(N, H.history[\"val_acc\"], label=\"val_acc\")\n",
    "plt.title(title)\n",
    "plt.xlabel(\"Epoch #\")\n",
    "plt.ylabel(\"Loss/Accuracy\")\n",
    "plt.legend()"
   ]
  },
  {
   "cell_type": "code",
   "execution_count": null,
   "metadata": {},
   "outputs": [],
   "source": []
  }
 ],
 "metadata": {
  "kernelspec": {
   "display_name": "Python 3",
   "language": "python",
   "name": "python3"
  },
  "language_info": {
   "codemirror_mode": {
    "name": "ipython",
    "version": 3
   },
   "file_extension": ".py",
   "mimetype": "text/x-python",
   "name": "python",
   "nbconvert_exporter": "python",
   "pygments_lexer": "ipython3",
   "version": "3.6.8"
  }
 },
 "nbformat": 4,
 "nbformat_minor": 2
}
